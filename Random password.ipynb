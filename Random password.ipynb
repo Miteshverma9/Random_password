{
 "cells": [
  {
   "cell_type": "code",
   "execution_count": 17,
   "id": "3ecea116",
   "metadata": {},
   "outputs": [
    {
     "name": "stdout",
     "output_type": "stream",
     "text": [
      "Enter the length of Password :- 8\n",
      "=jKCRO1b\n"
     ]
    }
   ],
   "source": [
    "#Random_password_Generator\n",
    "'''First we need to import the string and random , then we need to assign the character which can be choose randomly as a password.\n",
    "Then we will create a Function(), inside which we will give all the logic. '''\n",
    "\n",
    "import string \n",
    "import random\n",
    "\n",
    "characters = list(string.ascii_letters + string.digits + \"!@#$%^&*-=+\")\n",
    "\n",
    "def random_password():\n",
    "    length = int(input(\"Enter the length of Password :- \"))\n",
    "    r = random.shuffle(characters)\n",
    "    \n",
    "    Password = []\n",
    "    for i in range(length):\n",
    "        Password.append(random.choice(characters))\n",
    "    \n",
    "    random.shuffle(Password)\n",
    "    \n",
    "    print(\"\".join(Password))\n",
    "    \n",
    "        \n",
    "random_password() #calling_the_function"
   ]
  }
 ],
 "metadata": {
  "kernelspec": {
   "display_name": "Python 3 (ipykernel)",
   "language": "python",
   "name": "python3"
  },
  "language_info": {
   "codemirror_mode": {
    "name": "ipython",
    "version": 3
   },
   "file_extension": ".py",
   "mimetype": "text/x-python",
   "name": "python",
   "nbconvert_exporter": "python",
   "pygments_lexer": "ipython3",
   "version": "3.9.7"
  }
 },
 "nbformat": 4,
 "nbformat_minor": 5
}
